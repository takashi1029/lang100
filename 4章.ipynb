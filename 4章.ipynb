{
 "cells": [
  {
   "cell_type": "markdown",
   "metadata": {
    "toc": "true"
   },
   "source": [
    "# Table of Contents\n",
    " <p><div class=\"lev1 toc-item\"><a href=\"#30.-形態素解析結果の読み込み\" data-toc-modified-id=\"30.-形態素解析結果の読み込み-1\"><span class=\"toc-item-num\">1&nbsp;&nbsp;</span>30. 形態素解析結果の読み込み</a></div>"
   ]
  },
  {
   "cell_type": "markdown",
   "metadata": {},
   "source": [
    "# 30. 形態素解析結果の読み込み\n",
    "形態素解析結果（neko.txt.mecab）を読み込むプログラムを実装せよ．ただし，各形態素は表層形（surface），基本形（base），品詞（pos），品詞細分類1（pos1）をキーとするマッピング型に格納し，1文を形態素（マッピング型）のリストとして表現せよ．第4章の残りの問題では，ここで作ったプログラムを活用せよ．"
   ]
  },
  {
   "cell_type": "code",
   "execution_count": 1,
   "metadata": {
    "code_folding": [],
    "collapsed": false
   },
   "outputs": [],
   "source": [
    "import re\n",
    "\n",
    "\n",
    "\n",
    "sentence = []\n",
    "content = []\n",
    "\n",
    "def sentence_to_dict(elements):\n",
    "    sent_dict = {}\n",
    "    sent_dict[\"surface\"] = elements[0]\n",
    "    sent_dict[\"base\"] = elements[-3]\n",
    "    sent_dict[\"pos\"] = elements[1]\n",
    "    sent_dict[\"pos1\"] = elements[2]\n",
    "    return sent_dict\n",
    "\n",
    "with open(\"neco.txt.mecab\",\"r\") as f:\n",
    "    for line in f:\n",
    "        elements = re.split(\"\\s|,|\",line)\n",
    "        if elements[0] != \"EOS\":\n",
    "            sent_dict = sentence_to_dict(elements)\n",
    "            sentence.append(sent_dict)\n",
    "        else:\n",
    "            content.append(sentence)\n",
    "            sentence = []"
   ]
  },
  {
   "cell_type": "markdown",
   "metadata": {},
   "source": []
  }
 ],
 "metadata": {
  "kernelspec": {
   "display_name": "Python [Root]",
   "language": "python",
   "name": "Python [Root]"
  },
  "language_info": {
   "codemirror_mode": {
    "name": "ipython",
    "version": 2.0
   },
   "file_extension": ".py",
   "mimetype": "text/x-python",
   "name": "python",
   "nbconvert_exporter": "python",
   "pygments_lexer": "ipython2",
   "version": "2.7.12"
  },
  "toc": {
   "nav_menu": {
    "height": "30px",
    "width": "252px"
   },
   "navigate_menu": true,
   "number_sections": true,
   "sideBar": true,
   "threshold": 4.0,
   "toc_cell": true,
   "toc_section_display": "block",
   "toc_window_display": false
  }
 },
 "nbformat": 4,
 "nbformat_minor": 0
}